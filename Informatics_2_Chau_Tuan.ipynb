{
  "cells": [
    {
      "cell_type": "markdown",
      "metadata": {
        "id": "view-in-github",
        "colab_type": "text"
      },
      "source": [
        "<a href=\"https://colab.research.google.com/github/tuancompa2610/Informatics2/blob/main/Informatics_2_Chau_Tuan.ipynb\" target=\"_parent\"><img src=\"https://colab.research.google.com/assets/colab-badge.svg\" alt=\"Open In Colab\"/></a>"
      ]
    },
    {
      "cell_type": "markdown",
      "source": [
        "# 1. **IMPORT LIBRARIES**"
      ],
      "metadata": {
        "id": "P54AmgCOPpZ9"
      }
    },
    {
      "cell_type": "code",
      "source": [
        "import math\n",
        "import numpy as np\n",
        "from typing import List, Union"
      ],
      "metadata": {
        "id": "w9jzZ2enPtAZ"
      },
      "execution_count": null,
      "outputs": []
    },
    {
      "cell_type": "markdown",
      "metadata": {
        "id": "JnRCZzz24GgO"
      },
      "source": [
        "# **2. SIMPLE THINGS**"
      ]
    },
    {
      "cell_type": "markdown",
      "metadata": {
        "id": "0uGnnqEG3zr2"
      },
      "source": [
        "### **Exercise 2.1**. Write code that prints in Celsius the temperature given in Fahrenheit stored in the variable f. The formula is $T_c = \\frac{5}{9} (T_f - 32)$."
      ]
    },
    {
      "cell_type": "code",
      "execution_count": null,
      "metadata": {
        "colab": {
          "base_uri": "https://localhost:8080/"
        },
        "id": "wZSujjPwIo3D",
        "outputId": "de1cb629-5e7a-4344-a698-8c45ac0368c6"
      },
      "outputs": [
        {
          "output_type": "stream",
          "name": "stdout",
          "text": [
            "10.0\n",
            "4.444444444444445\n",
            "-6.666666666666667\n"
          ]
        }
      ],
      "source": [
        "def Celsius(T_f):\n",
        "    T_c = 5/9 *(T_f - 32)\n",
        "    return T_c\n",
        "\n",
        "if __name__ == \"__main__\":\n",
        "    print(Celsius(50))\n",
        "    print(Celsius(40))\n",
        "    print(Celsius(20))"
      ]
    },
    {
      "cell_type": "markdown",
      "metadata": {
        "id": "4tk7HAM64Fxx"
      },
      "source": [
        "### **Exercise 2.2**. Write code that prints all the numbers below the positive integer stored in the variable n. Do the same with the value of n included.\n",
        "\n",
        "\n",
        "\n",
        "\n"
      ]
    },
    {
      "cell_type": "code",
      "execution_count": null,
      "metadata": {
        "colab": {
          "base_uri": "https://localhost:8080/"
        },
        "id": "CyYqPRjoJYIV",
        "outputId": "197dda67-c441-4c3e-ead8-42b8d75439b1"
      },
      "outputs": [
        {
          "output_type": "stream",
          "name": "stdout",
          "text": [
            "[1, 2, 3, 4, 5, 6, 7, 8, 9]\n",
            "[1, 2, 3, 4, 5, 6, 7, 8, 9, 10, 11, 12, 13, 14, 15, 16, 17, 18, 19]\n"
          ]
        }
      ],
      "source": [
        "def bounded_set(n):\n",
        "    bounded_set = [i for i in range(1, n)]\n",
        "    return bounded_set\n",
        "\n",
        "if __name__ == \"__main__\":\n",
        "    print(bounded_set(10))\n",
        "    print(bounded_set(20))"
      ]
    },
    {
      "cell_type": "markdown",
      "metadata": {
        "id": "pguVftaF7SF3"
      },
      "source": [
        "### **Exercise 2.3**. Write code that prints the sum of the numbers not bigger than the positive integer stored in the variable n. Do the same with only the even numbers summed. (Do this without using `if`.)"
      ]
    },
    {
      "cell_type": "code",
      "execution_count": null,
      "metadata": {
        "id": "zSuW3EPQJrJU",
        "colab": {
          "base_uri": "https://localhost:8080/"
        },
        "outputId": "4f2547b3-e53a-43d3-afb1-7978c4dab426"
      },
      "outputs": [
        {
          "output_type": "stream",
          "name": "stdout",
          "text": [
            "55\n",
            "30\n"
          ]
        }
      ],
      "source": [
        "def sum_set(n):\n",
        "    return sum([i for i in range(1, n+1)])\n",
        "\n",
        "def sum_even(n):\n",
        "    return sum([i for i in range(1, n+1) if i % 2 == 0])\n",
        "\n",
        "if __name__ == \"__main__\":\n",
        "    print(sum_set(10))\n",
        "    print(sum_even(10))"
      ]
    },
    {
      "cell_type": "markdown",
      "metadata": {
        "id": "gkpf0qF7756N"
      },
      "source": [
        "### **Exercise 2.4**. Write code that prints the factorial of the positive integer stored in the variable n."
      ]
    },
    {
      "cell_type": "code",
      "source": [
        "# Solution 1: Built-in function\n",
        "def factorial(n):\n",
        "    return math.factorial(n)\n",
        "\n",
        "# Solution 2: Recursion\n",
        "def factorial_1(n):\n",
        "    if n == 0:\n",
        "        return 1\n",
        "    elif n == 1:\n",
        "        return 1\n",
        "    else:\n",
        "        return n * factorial_1(n-1)\n",
        "\n",
        "# Solution 3: Loop\n",
        "def factorial_2(n):\n",
        "    res = 1\n",
        "    while n > 0:\n",
        "        res *= n\n",
        "        n -= 1\n",
        "    return res\n",
        "if __name__ == \"__main__\":\n",
        "    print(factorial(4))\n",
        "    print(factorial_1(4))\n",
        "    print(factorial_2(4))\n"
      ],
      "metadata": {
        "colab": {
          "base_uri": "https://localhost:8080/"
        },
        "id": "5X5dgQq6PdpX",
        "outputId": "91f4ced7-f653-47e4-ee19-504b5e2f46f5"
      },
      "execution_count": null,
      "outputs": [
        {
          "output_type": "stream",
          "name": "stdout",
          "text": [
            "24\n",
            "24\n",
            "24\n"
          ]
        }
      ]
    },
    {
      "cell_type": "markdown",
      "metadata": {
        "id": "GyG2Fj7b7-iP"
      },
      "source": [
        "### **Exercise 2.5**. Write code that prints the (decimal) digits of the positive integer stored in n in reverse order. (Integer division is //)"
      ]
    },
    {
      "cell_type": "code",
      "source": [
        "def decimal(n):\n",
        "    decimal_list = []\n",
        "    while n > 0:\n",
        "        decimal_list.append(n % 10)\n",
        "        n //= 10\n",
        "    return decimal_list\n",
        "\n",
        "if __name__ == \"__main__\":\n",
        "    print(decimal(121))\n",
        "    print(decimal(26102003))\n"
      ],
      "metadata": {
        "colab": {
          "base_uri": "https://localhost:8080/"
        },
        "id": "ba1fGoWIQNAY",
        "outputId": "919f6bb3-e9cf-400c-cd82-5da9a4905963"
      },
      "execution_count": null,
      "outputs": [
        {
          "output_type": "stream",
          "name": "stdout",
          "text": [
            "[1, 2, 1]\n",
            "[3, 0, 0, 2, 0, 1, 6, 2]\n"
          ]
        }
      ]
    },
    {
      "cell_type": "markdown",
      "metadata": {
        "id": "WiVZTwHi8C_P"
      },
      "source": [
        "### **Exercise 2.6**. Write code that prints the sum of the (decimal) digits of the positive integer stored in n.\n"
      ]
    },
    {
      "cell_type": "code",
      "source": [
        "def sum_digits(n):\n",
        "    return sum(decimal(n))\n",
        "\n",
        "if __name__ == \"__main__\":\n",
        "    print(sum_digits(121))\n",
        "    print(sum_digits(26102003))"
      ],
      "metadata": {
        "colab": {
          "base_uri": "https://localhost:8080/"
        },
        "id": "B4E8VVm4ReKl",
        "outputId": "3ccae9d3-3594-4872-9cfa-ee2dbe240796"
      },
      "execution_count": null,
      "outputs": [
        {
          "output_type": "stream",
          "name": "stdout",
          "text": [
            "4\n",
            "14\n"
          ]
        }
      ]
    },
    {
      "cell_type": "markdown",
      "metadata": {
        "id": "Q0bl5yx08I7x"
      },
      "source": [
        "### **Exercise 2.7**. Write code that prints the first n terms of the Fibonacci sequence. (It’s not easy using only `while`. Hint: keep track of the last two terms.) Reminder: $F_0 = 0, F_1 = 1,$ and $F_{n+2} = F_{n} + F_{n+1}$."
      ]
    },
    {
      "cell_type": "code",
      "source": [
        "# Solution 1: Recursion\n",
        "def fibo(n):\n",
        "    if n == 0:\n",
        "        return 1\n",
        "    elif n == 1:\n",
        "        return 1\n",
        "    else:\n",
        "        return fibo(n-1) + fibo(n-2)\n",
        "\n",
        "# Solution 2: Dynamic Programming\n",
        "def fibo_dp(n):\n",
        "    dp = [1] * (n+1)\n",
        "    for i in range(2, n+1):\n",
        "        dp[i] = dp[i-1] + dp[i-2]\n",
        "    return dp\n",
        "\n",
        "if __name__ == \"__main__\":\n",
        "    n = 10\n",
        "    arr = []\n",
        "    for i in range(n+1):\n",
        "        arr.append(fibo(i))\n",
        "    dp = fibo_dp(n)\n",
        "    print(arr)\n",
        "    print(dp)\n",
        "    "
      ],
      "metadata": {
        "colab": {
          "base_uri": "https://localhost:8080/"
        },
        "id": "mjZiEjr8Rq7k",
        "outputId": "a8f85c7b-575b-4d51-b8c4-f5c33c1ef7e0"
      },
      "execution_count": null,
      "outputs": [
        {
          "output_type": "stream",
          "name": "stdout",
          "text": [
            "[1, 1, 2, 3, 5, 8, 13, 21, 34, 55, 89]\n",
            "[1, 1, 2, 3, 5, 8, 13, 21, 34, 55, 89]\n"
          ]
        }
      ]
    },
    {
      "cell_type": "markdown",
      "metadata": {
        "id": "p1YkZH-K8c7x"
      },
      "source": [
        "### **Exercise 2.8**. Rewrite your solution to exercises `2.2-2.4` using `for` instead of `while`"
      ]
    },
    {
      "cell_type": "code",
      "source": [
        "def bounded_set_2(n):\n",
        "    arr = []\n",
        "    for i in range(1, n):\n",
        "        arr.append(i)\n",
        "    return arr\n",
        "\n",
        "def sum_set_3(n):\n",
        "    return sum(arr(n))\n",
        "\n",
        "def factorial_4(n):\n",
        "    res = 1\n",
        "    for i in range(1, n + 1):\n",
        "        res *= i\n",
        "    return res\n"
      ],
      "metadata": {
        "id": "lYBjiKZAS3aV"
      },
      "execution_count": null,
      "outputs": []
    },
    {
      "cell_type": "markdown",
      "metadata": {
        "id": "Evt2Q6En8jk5"
      },
      "source": [
        "### **Exercise 2.9**. Write a program that then prints the sum of all the *positive* numbers in the list l of numbers. Use a `for` loop and do this with and without `continue`."
      ]
    },
    {
      "cell_type": "code",
      "source": [
        "def sum_list(arr):\n",
        "    return sum([i for i in arr if i > 0])\n",
        "\n",
        "if __name__ == \"__main__\":\n",
        "    arr = [2, -1, 3, 8, -5, 6, 9, -3]\n",
        "    print(sum_list(arr))"
      ],
      "metadata": {
        "colab": {
          "base_uri": "https://localhost:8080/"
        },
        "id": "_v8d-4gAVIYP",
        "outputId": "7980fd94-8c5a-40da-b2fd-46dffb286676"
      },
      "execution_count": null,
      "outputs": [
        {
          "output_type": "stream",
          "name": "stdout",
          "text": [
            "28\n"
          ]
        }
      ]
    },
    {
      "cell_type": "markdown",
      "metadata": {
        "id": "Fv0F_-3W8sXl"
      },
      "source": [
        "### **Exercise 2.10**. Write a program using a for loop and `break` that prints the first proper divisor of the positive `int` stored in n if it has one, and does nothing otherwise."
      ]
    },
    {
      "cell_type": "code",
      "source": [
        "if __name__ == \"__main__\":\n",
        "    n = 119\n",
        "    for i in range(2, int(np.sqrt(n))):\n",
        "        if n % i == 0:\n",
        "            print(i)\n",
        "            break"
      ],
      "metadata": {
        "colab": {
          "base_uri": "https://localhost:8080/"
        },
        "id": "307a-eAWW1mE",
        "outputId": "27b4b1dd-7ac9-4e1c-a220-847a362f3641"
      },
      "execution_count": null,
      "outputs": [
        {
          "output_type": "stream",
          "name": "stdout",
          "text": [
            "7\n"
          ]
        }
      ]
    },
    {
      "cell_type": "markdown",
      "metadata": {
        "id": "ONI-9JE983e3"
      },
      "source": [
        "### **Exercise 2.11**. Write a function `compare()` of two arguments (both numbers), that prints `The numbers are equal`. if the two arguments are equal, `The first number is bigger`. if this is the case, and `The second number is bigger`. otherwise."
      ]
    },
    {
      "cell_type": "code",
      "source": [
        "def compare(a, b):\n",
        "    if a == b:\n",
        "        print(\"The numbers are equal\")\n",
        "    elif a > b:\n",
        "        print(\"The first number is bigger\")\n",
        "    else:\n",
        "        print(\"The second number is bigger\")\n",
        "\n",
        "if __name__ == \"__main__\":\n",
        "    print(compare(1, 2))\n",
        "    print(compare(3**4, 4**3))\n",
        "    print(compare(np.sqrt(100), 2*5))"
      ],
      "metadata": {
        "colab": {
          "base_uri": "https://localhost:8080/"
        },
        "id": "yQh3a1X0YNvq",
        "outputId": "708b7eff-1232-43d2-8056-14986e1eba29"
      },
      "execution_count": null,
      "outputs": [
        {
          "output_type": "stream",
          "name": "stdout",
          "text": [
            "The second number is bigger\n",
            "None\n",
            "The first number is bigger\n",
            "None\n",
            "The numbers are equal\n",
            "None\n"
          ]
        }
      ]
    },
    {
      "cell_type": "markdown",
      "metadata": {
        "id": "uTOflPco9jxh"
      },
      "source": [
        "### **Exercise 2.12**. Write a function `divisible()` of two arguments that returns `True` if its second argument is divisible by its first argument, and `False` otherwise."
      ]
    },
    {
      "cell_type": "code",
      "source": [
        "def divisible(a, b):\n",
        "    return a % b == 0\n",
        "\n",
        "if __name__ == \"__main__\":\n",
        "    print(divisible(51, 9))\n",
        "    print(divisible(32, 16))"
      ],
      "metadata": {
        "colab": {
          "base_uri": "https://localhost:8080/"
        },
        "id": "kvUJy934eJUx",
        "outputId": "3aa39636-6d61-456c-cb7b-96312f126740"
      },
      "execution_count": null,
      "outputs": [
        {
          "output_type": "stream",
          "name": "stdout",
          "text": [
            "False\n",
            "True\n"
          ]
        }
      ]
    },
    {
      "cell_type": "markdown",
      "metadata": {
        "id": "fbamwbLP9q7I"
      },
      "source": [
        "### **Exercise 2.13**. Write a function `solve2()`, that, given the three coefficients of a second order equation, returns the list of its *real* roots."
      ]
    },
    {
      "cell_type": "code",
      "source": [
        "class Second_Equation():\n",
        "  \n",
        "    def __init__(self, a: Union[int, float], b: Union[int, float], c:Union[int, float]) -> None:\n",
        "        self.a = a\n",
        "        self.b = b\n",
        "        self.c = c\n",
        "    \n",
        "    def solve2(self) -> List[Union[float, int]]:\n",
        "        roots = []\n",
        "        delta = self.b ** 2 - 4 * self.a * self.c\n",
        "        if delta == 0:\n",
        "            x = - self.b / (2 * self.a)\n",
        "            roots.append(x)\n",
        "        elif delta > 0:\n",
        "            x_1 = (-self.b + np.sqrt(delta)) / (2 * self.a)\n",
        "            roots.append(x_1)\n",
        "            x_2 = (-self.b - np.sqrt(delta)) / (2 * self.a)\n",
        "            roots.append(x_2)\n",
        "        return roots\n",
        "\n",
        "if __name__ == \"__main__\":\n",
        "    quadratic_1 = Second_Equation(1, -2, 1)\n",
        "    quadratic_2 = Second_Equation(1, -5, 6)\n",
        "    quadratic_3 = Second_Equation(1, 4, 5)\n",
        "    print(quadratic_1.solve2())\n",
        "    print(quadratic_2.solve2())\n",
        "    print(quadratic_3.solve2())\n"
      ],
      "metadata": {
        "colab": {
          "base_uri": "https://localhost:8080/"
        },
        "id": "__UvVdatehWm",
        "outputId": "5ef833b8-87f3-4b5d-d69e-e885d9692139"
      },
      "execution_count": null,
      "outputs": [
        {
          "output_type": "stream",
          "name": "stdout",
          "text": [
            "[1.0]\n",
            "[3.0, 2.0]\n",
            "[]\n"
          ]
        }
      ]
    },
    {
      "cell_type": "markdown",
      "metadata": {
        "id": "e5VbyKov90Nu"
      },
      "source": [
        "### **Excercise 2.14** Do what\n",
        "![Screenshot 2023-03-03 192016.png](data:image/png;base64,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)\n",
        "\n",
        "does, but without `elif`"
      ]
    },
    {
      "cell_type": "code",
      "source": [
        "for i in [-5, 5, 15, 25]:\n",
        "    if i < 0:\n",
        "        print(\"negative\")\n",
        "        print(\"small\")\n",
        "        print(\"medium\")\n",
        "    else:\n",
        "        print(\"big\")"
      ],
      "metadata": {
        "colab": {
          "base_uri": "https://localhost:8080/"
        },
        "id": "o5TbtEVytQ9_",
        "outputId": "d9ac38e4-6ae3-4c1e-d84a-731c8872a32f"
      },
      "execution_count": null,
      "outputs": [
        {
          "output_type": "stream",
          "name": "stdout",
          "text": [
            "negative\n",
            "small\n",
            "medium\n",
            "big\n",
            "big\n",
            "big\n"
          ]
        }
      ]
    },
    {
      "cell_type": "markdown",
      "metadata": {
        "id": "cMsUU9bL9_A8"
      },
      "source": [
        "# **3. MORE CHALLENGING STUFF**"
      ]
    },
    {
      "cell_type": "markdown",
      "metadata": {
        "id": "HA3OIJ_3-Dl6"
      },
      "source": [
        "### **Exercise 3.1**. Write a function of one argument, that, given a list of numbers $n_1, n_2, …, n_k$ returns a new list containing the numbers $n_1^3 - 1, n_2^3 - 1, …, n_k^3 - 1$. Do it both with and without using list comprehension"
      ]
    },
    {
      "cell_type": "code",
      "source": [
        "def comprehension(arr):\n",
        "    new_list = [i**3 - 1 for i in arr]\n",
        "    return new_list \n",
        "\n",
        "if __name__ == \"__main__\":\n",
        "    print(comprehension([i for i in range(5)]))"
      ],
      "metadata": {
        "colab": {
          "base_uri": "https://localhost:8080/"
        },
        "id": "z1YMjioutuks",
        "outputId": "594176ad-f323-41fd-dcae-4a28392bfd07"
      },
      "execution_count": null,
      "outputs": [
        {
          "output_type": "stream",
          "name": "stdout",
          "text": [
            "[-1, 0, 7, 26, 63]\n"
          ]
        }
      ]
    },
    {
      "cell_type": "markdown",
      "metadata": {
        "id": "gjrwIWH--bmZ"
      },
      "source": [
        "### **Exercise 3.2**. Write a function `squares()` of two arguments, so that `squares(m,n)` returns the list of squares between *m* and *n*. Do it both with and without using list comprehension"
      ]
    },
    {
      "cell_type": "code",
      "source": [
        "def squares(m, n):\n",
        "    squares_list = [k for k in range(m, n+1) if int(np.sqrt(k))**2 == k]\n",
        "    return squares_list\n",
        "\n",
        "if __name__ == \"__main__\":\n",
        "    print(squares(1, 26))\n",
        "    print(squares(10, 100))"
      ],
      "metadata": {
        "colab": {
          "base_uri": "https://localhost:8080/"
        },
        "id": "_dx8lw1CuEFC",
        "outputId": "ba14c8e3-58d6-4ce0-c7d6-e3000aa8b3b4"
      },
      "execution_count": null,
      "outputs": [
        {
          "output_type": "stream",
          "name": "stdout",
          "text": [
            "[1, 4, 9, 16, 25]\n",
            "[16, 25, 36, 49, 64, 81, 100]\n"
          ]
        }
      ]
    },
    {
      "cell_type": "markdown",
      "metadata": {
        "id": "d65gflTZ-pb-"
      },
      "source": [
        "### **Exercise 3.3**. Generalize `squares()` of the previous exercise to every positive exponents! That is, using one of your implementations of `squares(`) as your starting point, write `powers()`, so that `powers(m,n,k)` returns the list of the *k*th powers between *m* and *n*."
      ]
    },
    {
      "cell_type": "code",
      "source": [
        "def powers(m, n, k):\n",
        "    powers_list = [i for i in range(m, n+1) if np.ceil(np.power(i, (1/k))) ** k == i ]\n",
        "    return powers_list\n",
        "\n",
        "if __name__ == \"__main__\":\n",
        "    print(powers(1, 500, 3))\n",
        "    print(powers(1, 500, 4))\n",
        "    "
      ],
      "metadata": {
        "colab": {
          "base_uri": "https://localhost:8080/"
        },
        "id": "vNTVkYJpuhWc",
        "outputId": "e1324afb-0c01-4978-c31f-6829b8876b9a"
      },
      "execution_count": null,
      "outputs": [
        {
          "output_type": "stream",
          "name": "stdout",
          "text": [
            "[1, 8, 27, 64, 125, 216, 343]\n",
            "[1, 16, 81, 256]\n"
          ]
        }
      ]
    },
    {
      "cell_type": "markdown",
      "metadata": {
        "id": "8UcjAiyV-4Ya"
      },
      "source": [
        "### **Exercise 3.4**. Write a function `index_of()`, which, given an object and a list, returns the index of the first occurrence of the object in the list, or `None` if it doesn’t occur in the list. (Recall that if a function doesn’t do `return`, it returns `None`.)\n"
      ]
    },
    {
      "cell_type": "code",
      "source": [
        "def index_of(a, arr):\n",
        "    for k, i in enumerate(arr):\n",
        "        if i == a:\n",
        "            return k\n",
        "    return None\n",
        "\n",
        "if __name__ == \"__main__\":\n",
        "    print(index_of(3, [2, 9, -1, 0, 3, 23, 84, 1]))\n",
        "    print(index_of(np.pi, [2, 9, -1, 0, 3, 23, 84, 1]))"
      ],
      "metadata": {
        "colab": {
          "base_uri": "https://localhost:8080/"
        },
        "id": "wiBouNlg099m",
        "outputId": "956b070c-3ca1-40ec-a1f6-231678079193"
      },
      "execution_count": null,
      "outputs": [
        {
          "output_type": "stream",
          "name": "stdout",
          "text": [
            "4\n",
            "None\n"
          ]
        }
      ]
    },
    {
      "cell_type": "markdown",
      "metadata": {
        "id": "C7PBT13p_EIr"
      },
      "source": [
        "### **Exercise 3.5**. Write a function `indices_of()`, which, given an object and a list, returns the list of indices of the occurrences of the object in the list"
      ]
    },
    {
      "cell_type": "code",
      "source": [
        "def indices_of(a, arr):\n",
        "    indices = [k for k, i in enumerate(arr) if i == a]\n",
        "    return indices\n",
        "\n",
        "if __name__ == \"__main__\":\n",
        "    print(indices_of(3,[4,1,3,2,3]))\n",
        "    print(indices_of(0,[4,1,3,2,3]))"
      ],
      "metadata": {
        "colab": {
          "base_uri": "https://localhost:8080/"
        },
        "id": "weER3zN61goY",
        "outputId": "f3a2f8bb-4d67-4775-f146-ee635ddd9a15"
      },
      "execution_count": null,
      "outputs": [
        {
          "output_type": "stream",
          "name": "stdout",
          "text": [
            "[2, 4]\n",
            "[]\n"
          ]
        }
      ]
    },
    {
      "cell_type": "markdown",
      "metadata": {
        "id": "9QavIMyt_Kvl"
      },
      "source": [
        "### **Exercise 3.6**. Write a function `substitute()`, which, given a list and two objects, returns a new list with all occurrences of the first object replaced by the second"
      ]
    },
    {
      "cell_type": "code",
      "source": [
        "def substitute(arr, a, b):\n",
        "    new_list = []\n",
        "    for k in arr:\n",
        "        if k == a:\n",
        "            new_list.append(b)\n",
        "        else:\n",
        "            new_list.append(k)\n",
        "    return new_list\n",
        "if __name__ == \"__main__\":\n",
        "    print(substitute([1,2,3,4,2],2,'a'))"
      ],
      "metadata": {
        "colab": {
          "base_uri": "https://localhost:8080/"
        },
        "id": "UqStZzgZ17I8",
        "outputId": "db39c1f4-9474-4aea-b1c1-dd826ee571f1"
      },
      "execution_count": null,
      "outputs": [
        {
          "output_type": "stream",
          "name": "stdout",
          "text": [
            "[1, 'a', 3, 4, 'a']\n"
          ]
        }
      ]
    },
    {
      "cell_type": "markdown",
      "metadata": {
        "id": "bupjh8Zz_Rsg"
      },
      "source": [
        "### **Exercise 3.7**. Write a version of `substitute()` which doesn’t return anything, but does the substitution on its list argument. "
      ]
    },
    {
      "cell_type": "code",
      "source": [
        "def substitute(arr, a, b):\n",
        "    for k, i in enumerate(arr):\n",
        "        if i == a:\n",
        "            arr[k] = b \n",
        "\n",
        "if __name__ == \"__main__\":\n",
        "    arr = [1,2,3,4,2]\n",
        "    substitute(arr, 2, 'a')\n",
        "    print(arr)"
      ],
      "metadata": {
        "colab": {
          "base_uri": "https://localhost:8080/"
        },
        "id": "vHVxQ__X67BA",
        "outputId": "cb4d85b5-d19a-4caf-a542-27ed71a3fd54"
      },
      "execution_count": null,
      "outputs": [
        {
          "output_type": "stream",
          "name": "stdout",
          "text": [
            "[1, 'a', 3, 4, 'a']\n"
          ]
        }
      ]
    },
    {
      "cell_type": "markdown",
      "metadata": {
        "id": "TLow3yez_ZSY"
      },
      "source": [
        "### **Exercise 3.8**. Define a function `divisibles_by()` of two arguments, a list and an integer, which returns the list of those members of the list that are divisible by the integer."
      ]
    },
    {
      "cell_type": "code",
      "source": [
        "def divisibles_by(arr, k):\n",
        "    divisible_list = [i for i in arr if i % k == 0]\n",
        "    return divisible_list\n",
        "\n",
        "if __name__ == \"__main__\":\n",
        "    print(divisibles_by(list(range(30,50)),7))"
      ],
      "metadata": {
        "colab": {
          "base_uri": "https://localhost:8080/"
        },
        "id": "xIXNBYI47gh4",
        "outputId": "0e62fa32-4ec0-4129-c454-f38acae3b954"
      },
      "execution_count": null,
      "outputs": [
        {
          "output_type": "stream",
          "name": "stdout",
          "text": [
            "[35, 42, 49]\n"
          ]
        }
      ]
    },
    {
      "cell_type": "markdown",
      "metadata": {
        "id": "zxO_8cCj_gss"
      },
      "source": [
        "### **Exercise 3.9**. Define a function `divisors()` that returns the list of proper divisors of its only argument."
      ]
    },
    {
      "cell_type": "code",
      "source": [
        "def divisors(a):\n",
        "    divisors = [k for k in range(1, a) if a % k == 0]\n",
        "    return divisors\n",
        "\n",
        "if __name__ == \"__main__\":\n",
        "    print(divisors(18))\n",
        "    print(divisors(50))"
      ],
      "metadata": {
        "colab": {
          "base_uri": "https://localhost:8080/"
        },
        "id": "13wNXFLo78Cr",
        "outputId": "34981df0-5cef-4204-f024-b3274b2d0ba5"
      },
      "execution_count": null,
      "outputs": [
        {
          "output_type": "stream",
          "name": "stdout",
          "text": [
            "[1, 2, 3, 6, 9]\n",
            "[1, 2, 5, 10, 25]\n"
          ]
        }
      ]
    },
    {
      "cell_type": "markdown",
      "metadata": {
        "id": "CrSQIE2J_ro6"
      },
      "source": [
        "### **Exercise 3.10**. Define `sigma()` of one argument, which computes the number theoretic function $\\sigma(n) = Σ_{1\\leq d \\leq n, d\\lvert n}d$. Check it for a few values. "
      ]
    },
    {
      "cell_type": "code",
      "source": [
        "def sigma(n):\n",
        "    return sum(divisors(n)) + n\n",
        "\n",
        "if __name__ == \"__main__\":\n",
        "    print([(n, sigma(n)) for n in range(6, 60, 11)])"
      ],
      "metadata": {
        "colab": {
          "base_uri": "https://localhost:8080/"
        },
        "id": "l2E1CAJi9kC4",
        "outputId": "157b84e6-5b12-44af-c100-29e21b86ee85"
      },
      "execution_count": null,
      "outputs": [
        {
          "output_type": "stream",
          "name": "stdout",
          "text": [
            "[(6, 12), (17, 18), (28, 56), (39, 56), (50, 93)]\n"
          ]
        }
      ]
    },
    {
      "cell_type": "markdown",
      "metadata": {
        "id": "qeKwGvEqAJFn"
      },
      "source": [
        "### **Exercise 3.11**. Define the function `is_perfect()` which returns `True` if its argument is a perfect number (which means that it is equal to the sum of its proper divisors) and `False` otherwise. Using your function, print all perfect numbers below 10000."
      ]
    },
    {
      "cell_type": "code",
      "source": [
        "def is_perpect(n):\n",
        "    return sum(divisors(n)) == n\n",
        "\n",
        "if __name__ == \"__main__\":\n",
        "    perpect_list = [k for k in range(1, 10000) if is_perpect(k) == True]\n",
        "    print(perpect_list)"
      ],
      "metadata": {
        "colab": {
          "base_uri": "https://localhost:8080/"
        },
        "id": "HEPrmYw_93C5",
        "outputId": "3457b84d-eaab-4097-d997-c36852c4bdd1"
      },
      "execution_count": null,
      "outputs": [
        {
          "output_type": "stream",
          "name": "stdout",
          "text": [
            "[6, 28, 496, 8128]\n"
          ]
        }
      ]
    },
    {
      "cell_type": "markdown",
      "metadata": {
        "id": "rMybMWZpAXMX"
      },
      "source": [
        "### **Exercise 3.12**. Define a function `divisors_ival()` such that `divisors_ival(m,n)` prints the the list of proper divisors of all integers between *m* and *n*"
      ]
    },
    {
      "cell_type": "code",
      "source": [
        "def divisors_ival(m, n):\n",
        "    for i in range(m, n+1):\n",
        "        print(divisors(i))\n",
        "\n",
        "if __name__  == \"__main__\":\n",
        "    divisors_ival(90, 100)"
      ],
      "metadata": {
        "colab": {
          "base_uri": "https://localhost:8080/"
        },
        "id": "e2bZgiZ3T3Kj",
        "outputId": "02f48ab9-2dab-4038-9921-e9c2e24597c5"
      },
      "execution_count": null,
      "outputs": [
        {
          "output_type": "stream",
          "name": "stdout",
          "text": [
            "[1, 2, 3, 5, 6, 9, 10, 15, 18, 30, 45]\n",
            "[1, 7, 13]\n",
            "[1, 2, 4, 23, 46]\n",
            "[1, 3, 31]\n",
            "[1, 2, 47]\n",
            "[1, 5, 19]\n",
            "[1, 2, 3, 4, 6, 8, 12, 16, 24, 32, 48]\n",
            "[1]\n",
            "[1, 2, 7, 14, 49]\n",
            "[1, 3, 9, 11, 33]\n",
            "[1, 2, 4, 5, 10, 20, 25, 50]\n"
          ]
        }
      ]
    },
    {
      "cell_type": "markdown",
      "metadata": {
        "id": "XfOguTHQAgxu"
      },
      "source": [
        "### **Exercise 3.13**. Write a function `is_prime` which returns `True` if its argument is a prime number and `False` otherwise."
      ]
    },
    {
      "cell_type": "code",
      "source": [
        "def is_prime(n):\n",
        "    for i in range(2, int(np.sqrt(n)) + 1):\n",
        "        if n % i == 0:\n",
        "            return False\n",
        "    return True \n",
        "\n",
        "if __name__ == \"__main__\":\n",
        "    print(is_prime(23))\n",
        "    print(is_prime(36))"
      ],
      "metadata": {
        "colab": {
          "base_uri": "https://localhost:8080/"
        },
        "id": "DjgfzmoGUVFp",
        "outputId": "0b2ea16e-fce7-4788-d17d-50318a928b0e"
      },
      "execution_count": null,
      "outputs": [
        {
          "output_type": "stream",
          "name": "stdout",
          "text": [
            "True\n",
            "False\n"
          ]
        }
      ]
    },
    {
      "cell_type": "markdown",
      "metadata": {
        "id": "GE4xc4lvAn1u"
      },
      "source": [
        "### **Exercise 3.14**. Write a function `primes_between()` such that `primes_between(m,n)` returns the list of primes in the interval [*m, n*]."
      ]
    },
    {
      "cell_type": "code",
      "source": [
        "def sieve_eratosthenes(n):\n",
        "    prime = [True] * (n+1)\n",
        "    p = 2\n",
        "    while p * p <= n:\n",
        "        if prime[p] == True:\n",
        "            for i in range(p**2, n+1, p):\n",
        "                prime[i] = False\n",
        "        p += 1\n",
        "    prime[0] = False\n",
        "    prime[1] = False\n",
        "    return prime\n",
        "\n",
        "def primes_between(m, n):\n",
        "    prime = sieve_eratosthenes(n)\n",
        "    prime_list = []\n",
        "    for k in range(m, n+1):\n",
        "        if prime[k]:\n",
        "            prime_list.append(k)\n",
        "    return prime_list\n",
        "if __name__ == \"__main__\":\n",
        "    print(primes_between(30, 100))"
      ],
      "metadata": {
        "colab": {
          "base_uri": "https://localhost:8080/"
        },
        "id": "1snnHLDCU6od",
        "outputId": "a58ae841-2c3c-4c24-f2d5-650137b015c8"
      },
      "execution_count": null,
      "outputs": [
        {
          "output_type": "stream",
          "name": "stdout",
          "text": [
            "[31, 37, 41, 43, 47, 53, 59, 61, 67, 71, 73, 79, 83, 89, 97]\n"
          ]
        }
      ]
    },
    {
      "cell_type": "markdown",
      "metadata": {
        "id": "68TK1NsyAyEv"
      },
      "source": [
        "### **Exercise 3.15**. Write a function `prime_divisors()` that returns the list of prime divisors of its argument."
      ]
    },
    {
      "cell_type": "code",
      "source": [
        "def prime_divisors(n):\n",
        "    i = 2\n",
        "    arr = []\n",
        "    while n > 1:\n",
        "        if n % i == 0:\n",
        "            n /= i\n",
        "            if i in arr:\n",
        "                continue\n",
        "            arr.append(i)\n",
        "        else:\n",
        "           i += 1\n",
        "    return arr\n",
        "\n",
        "if __name__ == \"__main__\":\n",
        "    print(prime_divisors(30))\n",
        "    print(prime_divisors(315))"
      ],
      "metadata": {
        "colab": {
          "base_uri": "https://localhost:8080/"
        },
        "id": "TQAZoyY-WlQ-",
        "outputId": "3806baef-dc04-4c45-9c04-ea528c50bee6"
      },
      "execution_count": null,
      "outputs": [
        {
          "output_type": "stream",
          "name": "stdout",
          "text": [
            "[2, 3, 5]\n",
            "[3, 5, 7]\n"
          ]
        }
      ]
    },
    {
      "cell_type": "markdown",
      "metadata": {
        "id": "guq2orhWA3gq"
      },
      "source": [
        "### **Exercise 3.16**. Write a function `max_exp()` such that `max_exp(m,n)` returns the biggest *k* such that $m^k \\lvert n$. You can assume $m$ > 1."
      ]
    },
    {
      "cell_type": "code",
      "source": [
        "def max_exp(m, n):\n",
        "    k = int(np.emath.logn(m, n))\n",
        "    while k > 0:\n",
        "        if n % (m ** k) == 0:\n",
        "            return k \n",
        "        else:\n",
        "            k -= 1\n",
        "if __name__ == \"__main__\":\n",
        "    print(max_exp(3, 63))\n",
        "    print(max_exp(3, 54))"
      ],
      "metadata": {
        "colab": {
          "base_uri": "https://localhost:8080/"
        },
        "id": "d7PxMnLX7d0h",
        "outputId": "23dca4da-ef83-45fb-de41-71297140b309"
      },
      "execution_count": null,
      "outputs": [
        {
          "output_type": "stream",
          "name": "stdout",
          "text": [
            "2\n",
            "3\n"
          ]
        }
      ]
    },
    {
      "cell_type": "markdown",
      "metadata": {
        "id": "6rmWpDzgBHaO"
      },
      "source": [
        "### **Exercise 3.17**. Write a function `prime_decomp()` that returns the prime decomposition of its argument as a list of pairs (or lists) whose first member is a prime divisor of the argument and the second is the exponent of the prime divisor in the prime decomposition"
      ]
    },
    {
      "cell_type": "code",
      "source": [
        "def prime_decomp(n):\n",
        "    factor = dict()\n",
        "    i = 2\n",
        "    while n > 1:\n",
        "        if n % i == 0:\n",
        "            n /= i\n",
        "            factor[i] = factor.get(i, 0) + 1\n",
        "        else:\n",
        "            i += 1\n",
        "    return list(zip(factor.keys(), factor.values()))\n",
        "\n",
        "if __name__ == \"__main__\":\n",
        "    print(prime_decomp(30))\n",
        "    print(prime_decomp(120))"
      ],
      "metadata": {
        "colab": {
          "base_uri": "https://localhost:8080/"
        },
        "id": "-fwzqcFE-woQ",
        "outputId": "4b38b008-6073-4997-be7e-87beba3f3b5c"
      },
      "execution_count": null,
      "outputs": [
        {
          "output_type": "stream",
          "name": "stdout",
          "text": [
            "[(2, 1), (3, 1), (5, 1)]\n",
            "[(2, 3), (3, 1), (5, 1)]\n"
          ]
        }
      ]
    },
    {
      "cell_type": "markdown",
      "metadata": {
        "id": "bRz6Sc2WBPsU"
      },
      "source": [
        "### **Exercise 3.18**. Define a function `lookup()` of two arguments. The second is a list of 2-long tuples, and the first a “key”. `lookup(key, list)` should return the second member of the first tuple in the list whose first member is equal to `key`, or `None` if there’s no such member of the list."
      ]
    },
    {
      "cell_type": "code",
      "source": [
        "def lookup(key, list):\n",
        "    for i in list:\n",
        "        if i[0] == key:\n",
        "            return i[1]\n",
        "    return None\n",
        "\n",
        "if __name__ == \"__main__\":\n",
        "    print(lookup('t', [('a', 1), ('b', 2), ('c', 3), ('d', 4)]))\n",
        "    print(lookup('c', [('a', 1), ('b', 2), ('c', 3), ('d', 4)]))\n"
      ],
      "metadata": {
        "colab": {
          "base_uri": "https://localhost:8080/"
        },
        "id": "_gjot9lUErBI",
        "outputId": "3a223b2c-ce4f-4343-cef3-2e5abc32b0c4"
      },
      "execution_count": null,
      "outputs": [
        {
          "output_type": "stream",
          "name": "stdout",
          "text": [
            "None\n",
            "3\n"
          ]
        }
      ]
    },
    {
      "cell_type": "markdown",
      "metadata": {
        "id": "sTgOCg2EBmKh"
      },
      "source": [
        "### **Exercise 3.19**. Using the functions in the two previous exercises, write a function `gcd()` that computes the greatest common divisor of its two arguments.\n"
      ]
    },
    {
      "cell_type": "code",
      "source": [
        "def gcd(a, b):\n",
        "    while b > 0:\n",
        "        r = a % b\n",
        "        a = b\n",
        "        b = r\n",
        "    return a\n",
        "\n",
        "if __name__ == \"__main__\":\n",
        "    print(gcd(24, 16))\n",
        "    print(gcd(17, 51))\n",
        "    print(gcd(19, 5))"
      ],
      "metadata": {
        "colab": {
          "base_uri": "https://localhost:8080/"
        },
        "id": "1TzNq1fEYZgd",
        "outputId": "26acc42f-cd58-45dd-ce69-0eece14759a4"
      },
      "execution_count": null,
      "outputs": [
        {
          "output_type": "stream",
          "name": "stdout",
          "text": [
            "8\n",
            "17\n",
            "1\n"
          ]
        }
      ]
    },
    {
      "cell_type": "markdown",
      "metadata": {
        "id": "1uXiQw3WBrCl"
      },
      "source": [
        "### Exercise 3.20. Define a function that computes $φ(n)$ (the number of relative primes to *n* below *n*) for every natural number *n*."
      ]
    },
    {
      "cell_type": "code",
      "source": [
        "# Solution 1\n",
        "def var_phi(n):\n",
        "    count = 0\n",
        "    for i in range(1, n):\n",
        "        if gcd(i, n) == 1:\n",
        "            count += 1\n",
        "    return count\n",
        "\n",
        "# Solution 2\n",
        "def sieve_powers(n):\n",
        "    powers = [(False, 1, 1)] * (n + 1)\n",
        "    for i in range(2, int(np.sqrt(n))):\n",
        "        p = 2\n",
        "        while i ** p <= n:\n",
        "            powers[i**p] = (True, i, p)\n",
        "            p += 1\n",
        "    arr = [(i, powers[i][1], powers[i][2]) for i in range(1, n) if powers[i][0] == True]\n",
        "    return arr\n",
        "\n",
        "\n",
        "def var_phi_2(n):\n",
        "    powers = sieve_powers(n)\n",
        "    var = [1] * (n+1)\n",
        "    prime = sieve_eratosthenes(n)\n",
        "    for i in range(2, n + 1):\n",
        "        if prime[i] == True:\n",
        "            var[i] = i - 1\n",
        "    for i in range(len(powers)):\n",
        "        x, y, z = powers[i]\n",
        "        var[x] = x - (y ** (z - 1))\n",
        "    for i in range(1, n + 1):\n",
        "        if var[i] == 1:\n",
        "            factor = prime_decomp(i)\n",
        "            for j in range(len(factor)):\n",
        "                var[i] *= var[factor[j][0] ** factor[j][1]]\n",
        "    return var[n]\n",
        "    \n",
        "if __name__ == \"__main__\":\n",
        "    print(var_phi(120))\n",
        "    print(var_phi_2(120))\n",
        "    print(var_phi(53))\n",
        "    print(var_phi_2(53))\n",
        "    print(var_phi(36))\n",
        "    print(var_phi(36))"
      ],
      "metadata": {
        "colab": {
          "base_uri": "https://localhost:8080/"
        },
        "id": "XcVLcHeCHW76",
        "outputId": "be8f435c-fc5b-41b2-bea2-3cb66b14385c"
      },
      "execution_count": null,
      "outputs": [
        {
          "output_type": "stream",
          "name": "stdout",
          "text": [
            "32\n",
            "32\n",
            "52\n",
            "52\n",
            "12\n",
            "12\n"
          ]
        }
      ]
    },
    {
      "cell_type": "markdown",
      "metadata": {
        "id": "DopIEoGDB3DM"
      },
      "source": [
        "### **Exercise 3.21**. Write a function `separate()`, which, when called with a list *l* of numbers, returns a pair of lists, the first containing the negative, the second the non-negative members of *l*"
      ]
    },
    {
      "cell_type": "code",
      "source": [
        "def separate(arr):\n",
        "    positive = [i for i in arr if i > 0]\n",
        "    negative = [i for i in arr if i < 0]\n",
        "    return (negative, positive)\n",
        "\n",
        "if __name__ == \"__main__\":\n",
        "    arr = [-2, 1, 4, -2, 8, 10, -9, 0, 11]\n",
        "    print(separate(arr))"
      ],
      "metadata": {
        "colab": {
          "base_uri": "https://localhost:8080/"
        },
        "id": "98pkvJf3yMzC",
        "outputId": "9261a1a3-8fbc-4e2e-95aa-0eef06e56ac5"
      },
      "execution_count": null,
      "outputs": [
        {
          "output_type": "stream",
          "name": "stdout",
          "text": [
            "([-2, -2, -9], [1, 4, 8, 10, 11])\n"
          ]
        }
      ]
    },
    {
      "cell_type": "markdown",
      "metadata": {
        "id": "dG7JcwJqB_NL"
      },
      "source": [
        "### **Exercise 3.22**. Define a function `is_sorted()` of one argument, a list, which returns `True` if it is sorted in ascending order and `False` otherwise.\n",
        "Hint: if you have trouble defining it, look up the definition of `repeats()` in the notes!"
      ]
    },
    {
      "cell_type": "code",
      "source": [
        "def is_sorted(arr):\n",
        "    return arr == sorted(arr)\n",
        "\n",
        "if __name__ == \"__main__\":\n",
        "    arr1 = [i for i in range(1, 10)]\n",
        "    arr2 = [10 - i for i in range(1, 10)]\n",
        "    print(is_sorted(arr1))\n",
        "    print(is_sorted(arr2))"
      ],
      "metadata": {
        "colab": {
          "base_uri": "https://localhost:8080/"
        },
        "id": "0YBbjUc2ZKVY",
        "outputId": "a166a762-a302-49cb-8285-750ae0b88d9f"
      },
      "execution_count": null,
      "outputs": [
        {
          "output_type": "stream",
          "name": "stdout",
          "text": [
            "True\n",
            "False\n"
          ]
        }
      ]
    },
    {
      "cell_type": "markdown",
      "metadata": {
        "id": "60GDOAJzDASe"
      },
      "source": [
        "### **Exercise 3.23**. Write a function which returns the minimal member of the nonemptylist that is given as its only argument. Call it `my_min()`, because there is a built-in function `min()` which does this. Needless to say, don’t use that. What other ways are there to cheat here? (It’s good to be aware of the possibilities, but write a version without using any of them.)\n",
        "Hint (for cheating): there’s a built-in `max()` fuction"
      ]
    },
    {
      "cell_type": "code",
      "source": [
        "# Solution 1\n",
        "def my_min(arr):\n",
        "    minn = 1e9\n",
        "    for k in arr:\n",
        "        if k < minn:\n",
        "            minn = k\n",
        "    return minn\n",
        "# Solution 2: cheating\n",
        "def cheating(arr):\n",
        "    return -1 * max([-k for k in arr])\n",
        "if __name__ == \"__main__\":\n",
        "    arr = [3, 1, 2, 9, -4, 25, -2, 0, 1]\n",
        "    print(my_min(arr))\n",
        "    print(cheating(arr))"
      ],
      "metadata": {
        "colab": {
          "base_uri": "https://localhost:8080/"
        },
        "id": "0NAh1RR2ZoE0",
        "outputId": "055efc1a-3f9d-4ae9-fa3c-64ace7cc2f89"
      },
      "execution_count": null,
      "outputs": [
        {
          "output_type": "stream",
          "name": "stdout",
          "text": [
            "-4\n",
            "-4\n"
          ]
        }
      ]
    },
    {
      "cell_type": "markdown",
      "metadata": {
        "id": "3I4GDfj6DMk0"
      },
      "source": [
        "### **Exercise 3.24**. Write a function `min_index()` which returns the index of the first occurrence of the minimal member of the nonempty list of numbers that is given as its only argument."
      ]
    },
    {
      "cell_type": "code",
      "source": [
        "def min_index(arr):\n",
        "    minn = min(arr)\n",
        "    for k, i in enumerate(arr):\n",
        "        if i == minn:\n",
        "            return k\n",
        "\n",
        "if __name__ == \"__main__\":\n",
        "    arr = [3, 1, 2, 9, -4, 25, -2, 0, 1, -4, 10]\n",
        "    print(min_index(arr))"
      ],
      "metadata": {
        "colab": {
          "base_uri": "https://localhost:8080/"
        },
        "id": "q1QN-Crqa7hk",
        "outputId": "c3a62ba1-2975-42aa-edaf-aa27a7d33d2b"
      },
      "execution_count": null,
      "outputs": [
        {
          "output_type": "stream",
          "name": "stdout",
          "text": [
            "4\n"
          ]
        }
      ]
    },
    {
      "cell_type": "markdown",
      "metadata": {
        "id": "5tZqChAJDVpf"
      },
      "source": [
        "### **Exercise 3.25**. Write a function `min_indices()` which returns the list of the indices of the occurrences of the minimal member of the nonempty list of numbers that is given as its only argument."
      ]
    },
    {
      "cell_type": "code",
      "source": [
        "def min_indices(arr):\n",
        "    minn = min(arr)\n",
        "    indices = [k for k, i in enumerate(arr) if i == minn]\n",
        "    return indices\n",
        "\n",
        "if __name__ == \"__main__\":\n",
        "    arr = [3, 1, 2, 9, -4, 25, -2, 0, 1, -4, 10]\n",
        "    print(min_indices(arr))"
      ],
      "metadata": {
        "colab": {
          "base_uri": "https://localhost:8080/"
        },
        "id": "VBoLWb18bnKN",
        "outputId": "3af18162-b538-40f8-a20f-942b2522ba25"
      },
      "execution_count": null,
      "outputs": [
        {
          "output_type": "stream",
          "name": "stdout",
          "text": [
            "[4, 9]\n"
          ]
        }
      ]
    },
    {
      "cell_type": "markdown",
      "metadata": {
        "id": "TcM_Y4_IDbEr"
      },
      "source": [
        "### **Exercise 3.26**. Write a function `nearest_to_avg()` that, given a list of numbers, returns the member closest to the average of the members, or `None` if the list is empty. You can use the function `abs()`."
      ]
    },
    {
      "cell_type": "code",
      "source": [
        "def nearest_to_avg(arr):\n",
        "    if len(arr) == 0:\n",
        "        return None\n",
        "    else:\n",
        "        avg = sum(arr) / len(arr)\n",
        "        distance = [abs(k - avg) for k in arr]\n",
        "        return arr[min_index(distance)]\n",
        "\n",
        "if __name__ == \"__main__\":\n",
        "    arr = [3, 1, 2, 9, -4, 25, -2, 0, 1, -4, 10]\n",
        "    print(sum(arr) / len(arr))\n",
        "    print(nearest_to_avg(arr))"
      ],
      "metadata": {
        "colab": {
          "base_uri": "https://localhost:8080/"
        },
        "id": "UGd1xrw5cE1z",
        "outputId": "ffbfa66c-5f96-4006-80c8-fbecc9f76e94"
      },
      "execution_count": null,
      "outputs": [
        {
          "output_type": "stream",
          "name": "stdout",
          "text": [
            "3.727272727272727\n",
            "3\n"
          ]
        }
      ]
    },
    {
      "cell_type": "markdown",
      "metadata": {
        "id": "uALam5VaDjUF"
      },
      "source": [
        "### **Exercise 3.27**. Define a function `has_duplicates()` of one argument, a list, which returns `True` if there is an object which occurs at least twice in the list, and `False` otherwise"
      ]
    },
    {
      "cell_type": "code",
      "source": [
        "import collections\n",
        "\n",
        "def has_duplicates(arr):\n",
        "    c = collections.Counter(arr)\n",
        "    return max(c.values()) > 1\n",
        "\n",
        "if __name__ == \"__main__\":\n",
        "    l = ['a', 'a', 'a', 'a', 'b', 'c', 'c']\n",
        "    r = [i for i in range(10)]\n",
        "    print(has_duplicates(l))\n",
        "    print(has_duplicates(r))"
      ],
      "metadata": {
        "colab": {
          "base_uri": "https://localhost:8080/"
        },
        "id": "CnhC_qwdd0Fc",
        "outputId": "d4c1b0e0-0536-4e10-c516-83813498f707"
      },
      "execution_count": null,
      "outputs": [
        {
          "output_type": "stream",
          "name": "stdout",
          "text": [
            "True\n",
            "False\n"
          ]
        }
      ]
    },
    {
      "cell_type": "markdown",
      "metadata": {
        "id": "t6i19QDJDr5d"
      },
      "source": [
        "### **Exercise 3.28**. Write a function `longest_run()` of one argument, a list of numbers, which returns the length of the longest sequence of the same number."
      ]
    },
    {
      "cell_type": "code",
      "source": [
        "def longest_run(arr):\n",
        "    p = 1\n",
        "    maxx = 0\n",
        "    for i in range(1, len(arr)):\n",
        "        if arr[i] == arr[i - 1]:\n",
        "            p += 1\n",
        "        else:\n",
        "            p = 1 \n",
        "        maxx = max(p, maxx)\n",
        "    return maxx\n",
        "\n",
        "if __name__ == \"__main__\":\n",
        "    print(longest_run([1, 1, 1, 2, 3, 4, 4, 1, 2]))\n",
        "    print(longest_run([1] * 10))\n",
        "    print(longest_run([i for i in range(10)]))"
      ],
      "metadata": {
        "colab": {
          "base_uri": "https://localhost:8080/"
        },
        "id": "zlCALUXkVYmk",
        "outputId": "2549773f-91e3-4cdb-c15f-63c7bd371288"
      },
      "execution_count": null,
      "outputs": [
        {
          "output_type": "stream",
          "name": "stdout",
          "text": [
            "3\n",
            "10\n",
            "1\n"
          ]
        }
      ]
    },
    {
      "cell_type": "markdown",
      "metadata": {
        "id": "uL_QPX1SDxUg"
      },
      "source": [
        "### **Exercise 3.29**. Print the following ugly multiplication table:\n",
        "\n",
        "\n",
        "1.   1 2 3 4 5 6 7 8 9\n",
        "2.   2 4 6 8 10 12 14 16 18\n",
        "3. 3 6 9 12 15 18 21 24 27\n",
        "4. 4 8 12 16 20 24 28 32 36\n",
        "5. 5 10 15 20 25 30 35 40 45\n",
        "6. 6 12 18 24 30 36 42 48 54\n",
        "7. 7 14 21 28 35 42 49 56 63\n",
        "8. 8 16 24 32 40 48 56 64 72\n",
        "9. 9 18 27 36 45 54 63 72 81   \n",
        "\n"
      ]
    },
    {
      "cell_type": "code",
      "source": [
        "def table():\n",
        "    for i in range(1, 10):\n",
        "        arr = [str(i * k) for k in range(1, 10)]\n",
        "        row = ' '.join(arr)\n",
        "        print(f\"{i}. {row}\")\n",
        "\n",
        "if __name__ == \"__main__\":\n",
        "    table()\n",
        "    # This table is not really ugly :)"
      ],
      "metadata": {
        "colab": {
          "base_uri": "https://localhost:8080/"
        },
        "id": "Qmyd_b2klQ3s",
        "outputId": "6d9aebe1-4681-4948-aef4-5d9488cb1cf4"
      },
      "execution_count": null,
      "outputs": [
        {
          "output_type": "stream",
          "name": "stdout",
          "text": [
            "1. 1 2 3 4 5 6 7 8 9\n",
            "2. 2 4 6 8 10 12 14 16 18\n",
            "3. 3 6 9 12 15 18 21 24 27\n",
            "4. 4 8 12 16 20 24 28 32 36\n",
            "5. 5 10 15 20 25 30 35 40 45\n",
            "6. 6 12 18 24 30 36 42 48 54\n",
            "7. 7 14 21 28 35 42 49 56 63\n",
            "8. 8 16 24 32 40 48 56 64 72\n",
            "9. 9 18 27 36 45 54 63 72 81\n"
          ]
        }
      ]
    },
    {
      "cell_type": "markdown",
      "metadata": {
        "id": "tUlbyOkGEG86"
      },
      "source": [
        "### **Exercise 3.30**. Print all permutations (one by one) of 012!"
      ]
    },
    {
      "cell_type": "code",
      "source": [
        "def permute(arr, l, r):\n",
        "    if l == r:\n",
        "        print(arr)\n",
        "    else:\n",
        "        for i in range(l, r):\n",
        "            arr[l], arr[i] = arr[i], arr[l]\n",
        "            permute(arr, l+1, r)\n",
        "            arr[i], arr[l] = arr[l], arr[i]\n",
        "\n",
        "if __name__ == \"__main__\":\n",
        "    arr = [0, 1, 2]\n",
        "    permute(arr, 0, len(arr))"
      ],
      "metadata": {
        "colab": {
          "base_uri": "https://localhost:8080/"
        },
        "id": "SatHo6xwiqJ6",
        "outputId": "77851f58-a6a7-493c-fef1-4044ac279f6e"
      },
      "execution_count": null,
      "outputs": [
        {
          "output_type": "stream",
          "name": "stdout",
          "text": [
            "[0, 1, 2]\n",
            "[0, 2, 1]\n",
            "[1, 0, 2]\n",
            "[1, 2, 0]\n",
            "[2, 1, 0]\n",
            "[2, 0, 1]\n"
          ]
        }
      ]
    },
    {
      "cell_type": "markdown",
      "metadata": {
        "id": "WFpGwCtdELKu"
      },
      "source": [
        "### **Exercise 3.31**. Write a function that computes the factorial of a natural number! Do a version without recursion, too."
      ]
    },
    {
      "cell_type": "code",
      "source": [
        "# Solution 1: Built-in function\n",
        "def factorial(n):\n",
        "    return math.factorial(n)\n",
        "\n",
        "# Solution 2: Recursion\n",
        "def factorial_1(n):\n",
        "    if n == 0:\n",
        "        return 1\n",
        "    elif n == 1:\n",
        "        return 1\n",
        "    else:\n",
        "        return n * factorial_1(n-1)\n",
        "\n",
        "# Solution 3: Loop\n",
        "def factorial_2(n):\n",
        "    res = 1\n",
        "    while n > 0:\n",
        "        res *= n\n",
        "        n -= 1\n",
        "    return res\n",
        "if __name__ == \"__main__\":\n",
        "    print(factorial(4))\n",
        "    print(factorial_1(4))\n",
        "    print(factorial_2(4))\n"
      ],
      "metadata": {
        "colab": {
          "base_uri": "https://localhost:8080/"
        },
        "id": "o90nXhSojNfz",
        "outputId": "2c931a85-bd95-4810-9248-2f8d087e3b8e"
      },
      "execution_count": null,
      "outputs": [
        {
          "output_type": "stream",
          "name": "stdout",
          "text": [
            "24\n",
            "24\n",
            "24\n"
          ]
        }
      ]
    },
    {
      "cell_type": "markdown",
      "metadata": {
        "id": "UqamNhQREP2s"
      },
      "source": [
        "### **Exercise 3.32**. Write a function `lucas(n)` which returns the *n*th Lucas-number. Lucas numbers are defined recursively as follows: $L_0 = 2, L_1 = 1, L_{n+2} = L_{n} + L_{n+1}$. Try writing the function following the pattern of this definition, and another version that is not recursive."
      ]
    },
    {
      "cell_type": "code",
      "source": [
        "def lucas(n):\n",
        "    if n == 0:\n",
        "        return 2\n",
        "    elif n == 1:\n",
        "        return 1\n",
        "    else:\n",
        "        return lucas(n - 1) + lucas(n - 2)\n",
        "\n",
        "def lucas_dp(n):\n",
        "    dp = [0] * (n+1)\n",
        "    dp[0] = 2\n",
        "    dp[1] = 1\n",
        "    for i in range(2, n + 1):\n",
        "        dp[i] = dp[i-1] + dp[i-2]\n",
        "    return dp\n",
        "\n",
        "if __name__ == \"__main__\":\n",
        "    n = 10\n",
        "    dp = lucas_dp(10)\n",
        "    print(lucas(n))\n",
        "    print(dp[n])"
      ],
      "metadata": {
        "colab": {
          "base_uri": "https://localhost:8080/"
        },
        "id": "84XwJaqNjoDQ",
        "outputId": "1f100079-01d8-497b-aa90-fb388d237b6a"
      },
      "execution_count": null,
      "outputs": [
        {
          "output_type": "stream",
          "name": "stdout",
          "text": [
            "123\n",
            "123\n"
          ]
        }
      ]
    },
    {
      "cell_type": "markdown",
      "metadata": {
        "id": "ueUB1dUKEeQs"
      },
      "source": [
        "### **Homework 3.1**. Using the `lucas()` function (preferably the non-recursive one) from the previous exercise, print out the first few members of the subsequence of Lucas numbers whose indices are divisible by 3. Can you observe some regularity? If yes, can you verify it for the first 100 or so members of the subsequence? (Do this with the iterative version; if you only have the recursive one, make it 10 instead of 100.) Does this regularity hold if we consider indices whose remainders modulo 3 is 1 or 2? Can you formulate a theorem? If yes, can you verify it for the first few hundred Lucas numbers?\n"
      ]
    },
    {
      "cell_type": "markdown",
      "metadata": {
        "id": "nwuDetp6E266"
      },
      "source": [
        "### **Exercise 3.33**. Goldbach’s conjecture says that every even number greater than 2 is the sum of two primes. Write a function `goldbach()`, which, given $1 < n  \\in \\mathbb{N}$, returns the number of ways $2n$ can be written as the sum of two primes. ($p_1 + p_2$ and $p_2+ p_1$ count as the same decomposition.) For debugging your function, you may want to use `print()`, which, if given multiple arguments, will print them all, separated by a space"
      ]
    },
    {
      "cell_type": "code",
      "source": [
        "def goldbach(n):\n",
        "    prime = sieve_eratosthenes(n)\n",
        "    count = 0\n",
        "    for i in range(2, n // 2):\n",
        "        if prime[i] == True and prime[n - i] == True:\n",
        "            count += 1\n",
        "    return count \n",
        "\n",
        "if __name__ == \"__main__\":\n",
        "    print(goldbach(50))\n",
        "    print(goldbach(8))"
      ],
      "metadata": {
        "colab": {
          "base_uri": "https://localhost:8080/"
        },
        "id": "oQrGtiYSafuc",
        "outputId": "43d3e0dd-d737-4414-a83f-4f437f6959bc"
      },
      "execution_count": null,
      "outputs": [
        {
          "output_type": "stream",
          "name": "stdout",
          "text": [
            "4\n",
            "1\n"
          ]
        }
      ]
    },
    {
      "cell_type": "markdown",
      "metadata": {
        "id": "_ls2dUxyFywR"
      },
      "source": [
        "### **Exercise 3.34**. Convince yourself that Goldbach’s conjecture will not be easy to refute, by exploring various intervals using your `goldbach()` function from the previous exercise.\n"
      ]
    },
    {
      "cell_type": "markdown",
      "metadata": {
        "id": "DoECNCLcF4aH"
      },
      "source": [
        "### **Exercise 3.35**. Write a function `pascal()` that, given a positive natural number *n*, returns, as a list of lists, the first *n* lines of Pascal’s triangle. Use the recursive definition of Pascal’s triangle (this does not mean that your function must be recursive, see for example `3.31`!): the *n*th row is of length *n*; the first row consists of one 1, and each entry of each subsequent row is the sum of the number above and to the left and the number above and to the right, treating blank entries as 0 ([Wikipedia](https://en.wikipedia.org/wiki/Pascal's_triangle))"
      ]
    },
    {
      "cell_type": "code",
      "source": [
        "def pascal(n):\n",
        "    for i in range(1, n + 1):\n",
        "        arr = []\n",
        "        for j in range(i+1):\n",
        "            arr.append(math.comb(i, j))\n",
        "        print(arr)\n",
        "\n",
        "if __name__ == \"__main__\":\n",
        "    pascal(5)"
      ],
      "metadata": {
        "colab": {
          "base_uri": "https://localhost:8080/"
        },
        "id": "ctk_18SZoUtU",
        "outputId": "47b4a86c-443d-4f3f-e20d-80dca795d5c2"
      },
      "execution_count": null,
      "outputs": [
        {
          "output_type": "stream",
          "name": "stdout",
          "text": [
            "[1, 1]\n",
            "[1, 2, 1]\n",
            "[1, 3, 3, 1]\n",
            "[1, 4, 6, 4, 1]\n",
            "[1, 5, 10, 10, 5, 1]\n"
          ]
        }
      ]
    },
    {
      "cell_type": "markdown",
      "metadata": {
        "id": "ocqPUAEJGMzX"
      },
      "source": [
        "### **Exercise 3.36**. An [associative](https://en.wikipedia.org/wiki/Associative_array) is a data structure that maps values to keys. (Python has such a data structure: it’s called `dict`, and we will use it later – but in this exercise we roll our own.) There are four activites related to an associative array: we need to be able to create one, add key-value pairs to it, look up the value associated to a key in it, and remove a key-value pair from it. We have already written the third component in Exercise `3.18`. The first could simply be `def make_new_aa(): return list()` Write the remaining two: `insert(key,value,aa)` should return a copy of `aa`, either extended with the tuple `(key,value)` or, if key is already present in aa, it should return a copy of aa in which `(key,value')` is replaced by `(key,value)`. Finally, `delete(key,aa)` should return a copy of aa with no tuple of the `form(key,value)`.\n"
      ]
    },
    {
      "cell_type": "markdown",
      "metadata": {
        "id": "Guo3UPRZHbeH"
      },
      "source": [
        "### **Exercise 3.37**. Write a function `insert_sort()` of one argument, a list of numbers, which returns the sorted (in ascending order) version of the list. You should use the [Insertion sort](https://en.wikipedia.org/wiki/Insertion_sort#Algorithm) algorithm, which works as follows: we read the elements of the list from left to right, and any time we encounter a member *e* that is smaller than the previous one, we shift to the right all the members that are left of *e* and are bigger than *e*, and insert *e* where the leftmost of these members were. In other words, we scan the list from left to right, and whenever we find that the first *k* element is not in order, we correct this. Or\n",
        "![Screenshot 2023-03-03 163912.png](data:image/png;base64,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)"
      ]
    },
    {
      "cell_type": "code",
      "source": [
        "def insert_sort(arr):\n",
        "    for i in range(1, len(arr)):\n",
        "        k = arr[i]\n",
        "        j = i - 1\n",
        "        while j >= 0 and k < arr[j]:\n",
        "            arr[j + 1] = arr[j]\n",
        "            j -= 1 \n",
        "        arr[j + 1] = k\n",
        "    return arr\n",
        "\n",
        "if __name__ == \"__main__\":\n",
        "    arr = [12, 11, 13, 5, 6]\n",
        "    print(insert_sort(arr))"
      ],
      "metadata": {
        "colab": {
          "base_uri": "https://localhost:8080/"
        },
        "id": "J8NtZEL9r1py",
        "outputId": "47f68d14-754e-4e6c-d191-916ba0f6b1dc"
      },
      "execution_count": null,
      "outputs": [
        {
          "output_type": "stream",
          "name": "stdout",
          "text": [
            "[5, 6, 11, 12, 13]\n"
          ]
        }
      ]
    },
    {
      "cell_type": "markdown",
      "source": [
        "# **4. I/O**"
      ],
      "metadata": {
        "id": "Yg4p6w3nckMo"
      }
    },
    {
      "cell_type": "markdown",
      "source": [
        "### **Exercise 4.1**. Write a program that asks for numbers, one after the other, and if the user presses `RETURN` without entering a number first, it returns the average of the numbers"
      ],
      "metadata": {
        "id": "VbM1BcbLcn4M"
      }
    },
    {
      "cell_type": "markdown",
      "source": [
        "### **Exercise 4.2**. Write a program that asks for numbers separated by spaces, and prints their average"
      ],
      "metadata": {
        "id": "Vx4AD9tLc0-W"
      }
    },
    {
      "cell_type": "markdown",
      "source": [
        "### Exercise 4.3. Write a function `read_first_lines()` of two arguments: the name of a file and an integer *n*. It should read and print the first *n* lines of the file (or all lines if there are no more than *n* lines in it)."
      ],
      "metadata": {
        "id": "-fijL-EHc7QO"
      }
    },
    {
      "cell_type": "markdown",
      "source": [
        "### **Exercise 4.4**. Write a function `copy_first_lines()` of three arguments: the name of an input and an output file, and an integer. It should do what the function in the previous exercise did, except that the output should go to the file named by the second argument. Check with an editor, or with `cat` or `less` at the command line that your function did what it’s supposed to do."
      ],
      "metadata": {
        "id": "ix-GPxT9dQm-"
      }
    },
    {
      "cell_type": "markdown",
      "source": [
        "### **Exercise 4.5**. Write a function `count_lines()` of one argument, the name of a file. It should return the number of lines in the file (that’s what `wc -l` does on the command line)"
      ],
      "metadata": {
        "id": "I6Sj91UrdcAA"
      }
    },
    {
      "cell_type": "markdown",
      "source": [
        "### Exercise 4.6. Write a function `read_to_string()` that returns a string containing all the text in the text file named by its only argument. It shouldn’t contain newline characters `(\\ns)` but of course the last word of a line should not run into the first word of the next line.\n",
        "Help: strings can be concatenated using +. And use `.rstrip()`, as in the lecture!"
      ],
      "metadata": {
        "id": "GzeCxh7tdkqY"
      }
    },
    {
      "cell_type": "markdown",
      "source": [
        "# **5. Containers**"
      ],
      "metadata": {
        "id": "H75oyQm7d2Ko"
      }
    },
    {
      "cell_type": "markdown",
      "source": [
        "### **Exercise 5.1**. Write a function `list_diff()` of two arguments, both lists, which returns the list of those members of the first list (in the original order) which are not in the second"
      ],
      "metadata": {
        "id": "AKHr31nZdysZ"
      }
    },
    {
      "cell_type": "markdown",
      "source": [
        "### **Exercise 5.2**. Print the following pattern:\n",
        "1\n",
        "\n",
        "22\n",
        "\n",
        "333\n",
        "\n",
        "4444\n",
        "\n",
        "55555\n",
        "\n",
        "666666\n",
        "\n",
        "7777777\n",
        "\n",
        "88888888\n",
        "\n",
        "999999999"
      ],
      "metadata": {
        "id": "D0QthiX0eFXA"
      }
    }
  ],
  "metadata": {
    "colab": {
      "provenance": [],
      "authorship_tag": "ABX9TyNPKmkBnphqWvlVLGEccTY+",
      "include_colab_link": true
    },
    "kernelspec": {
      "display_name": "Python 3",
      "name": "python3"
    },
    "language_info": {
      "name": "python"
    }
  },
  "nbformat": 4,
  "nbformat_minor": 0
}